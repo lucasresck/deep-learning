{
  "nbformat": 4,
  "nbformat_minor": 0,
  "metadata": {
    "colab": {
      "name": "cnn_mnist.ipynb",
      "provenance": [],
      "collapsed_sections": [],
      "authorship_tag": "ABX9TyMmw3/RCStsKD/FIENvXSI8",
      "include_colab_link": true
    },
    "kernelspec": {
      "name": "python3",
      "display_name": "Python 3"
    },
    "accelerator": "GPU"
  },
  "cells": [
    {
      "cell_type": "markdown",
      "metadata": {
        "id": "view-in-github",
        "colab_type": "text"
      },
      "source": [
        "<a href=\"https://colab.research.google.com/github/lucasresck/deep-learning-and-applications/blob/main/cnn/cnn_mnist.ipynb\" target=\"_parent\"><img src=\"https://colab.research.google.com/assets/colab-badge.svg\" alt=\"Open In Colab\"/></a>"
      ]
    },
    {
      "cell_type": "markdown",
      "metadata": {
        "id": "e2NQ7xaljLxb"
      },
      "source": [
        "# CNN for MNIST\n",
        "\n",
        "Implementation of naive CNN for MNIST prediction."
      ]
    },
    {
      "cell_type": "markdown",
      "metadata": {
        "id": "fqdmLqOCjUjB"
      },
      "source": [
        "## Setup"
      ]
    },
    {
      "cell_type": "code",
      "metadata": {
        "id": "7S0e2xk9D8aj"
      },
      "source": [
        "import matplotlib.pyplot as plt\n",
        "import torch\n",
        "import torchvision\n",
        "import torch.nn as nn\n",
        "import torchvision.transforms as transforms"
      ],
      "execution_count": null,
      "outputs": []
    },
    {
      "cell_type": "code",
      "metadata": {
        "colab": {
          "base_uri": "https://localhost:8080/"
        },
        "id": "WzSDk5leYyAy",
        "outputId": "61f2e9c7-b8c7-4fba-b0b2-52674cc3cfc4"
      },
      "source": [
        "# GPU setup\n",
        "device = 'cuda:0' if torch.cuda.is_available() else 'cpu'\n",
        "print(device)"
      ],
      "execution_count": null,
      "outputs": [
        {
          "output_type": "stream",
          "text": [
            "cuda:0\n"
          ],
          "name": "stdout"
        }
      ]
    },
    {
      "cell_type": "markdown",
      "metadata": {
        "id": "bURrVvR9jX0c"
      },
      "source": [
        "## Data"
      ]
    },
    {
      "cell_type": "markdown",
      "metadata": {
        "id": "5OSn8_1gkFur"
      },
      "source": [
        "We download the MNIST dataset."
      ]
    },
    {
      "cell_type": "code",
      "metadata": {
        "id": "lzJ8G3P7Erj3"
      },
      "source": [
        "train_set = torchvision.datasets.MNIST(\n",
        "    root='data',\n",
        "    train=True,\n",
        "    transform=transforms.ToTensor(),\n",
        "    download=True\n",
        ")\n",
        "test_set = torchvision.datasets.MNIST(\n",
        "    root='data',\n",
        "    train=False,\n",
        "    transform=transforms.ToTensor(),\n",
        "    download=True\n",
        ")"
      ],
      "execution_count": null,
      "outputs": []
    },
    {
      "cell_type": "markdown",
      "metadata": {
        "id": "fyjg0zz1kJma"
      },
      "source": [
        "We create the dataloaders."
      ]
    },
    {
      "cell_type": "code",
      "metadata": {
        "id": "90YjJ9GKa5v1"
      },
      "source": [
        "train_loader = torch.utils.data.DataLoader(\n",
        "    dataset=train_set,\n",
        "    batch_size=64,\n",
        "    shuffle=True\n",
        ")\n",
        "test_loader = torch.utils.data.DataLoader(\n",
        "    dataset=test_set,\n",
        "    batch_size=64,\n",
        "    shuffle=False\n",
        ")"
      ],
      "execution_count": null,
      "outputs": []
    },
    {
      "cell_type": "markdown",
      "metadata": {
        "id": "ZRy2VoAxkO2c"
      },
      "source": [
        "Example of an image of the dataset:"
      ]
    },
    {
      "cell_type": "code",
      "metadata": {
        "id": "fovulHe6E8Ra",
        "colab": {
          "base_uri": "https://localhost:8080/",
          "height": 265
        },
        "outputId": "1e5cf60d-0377-41ef-d1c5-866b1f1e4994"
      },
      "source": [
        "plt.imshow(train_set[0][0].reshape(28, 28), cmap='gray');"
      ],
      "execution_count": null,
      "outputs": [
        {
          "output_type": "display_data",
          "data": {
            "image/png": "[encoded data removed]",
            "text/plain": [
              "<Figure size 432x288 with 1 Axes>"
            ]
          },
          "metadata": {
            "tags": [],
            "needs_background": "light"
          }
        }
      ]
    },
    {
      "cell_type": "markdown",
      "metadata": {
        "id": "FHl8kh_hjaHo"
      },
      "source": [
        "## Model"
      ]
    },
    {
      "cell_type": "code",
      "metadata": {
        "id": "h0oY4TgSZ2XL"
      },
      "source": [
        "# Hyperparameters\n",
        "lr = 0.001\n",
        "n_epochs = 5"
      ],
      "execution_count": null,
      "outputs": []
    },
    {
      "cell_type": "markdown",
      "metadata": {
        "id": "gRQiiilvkT_g"
      },
      "source": [
        "The model is written in PyTorch. We inherit from `nn.Module` and implement an simple CNN."
      ]
    },
    {
      "cell_type": "code",
      "metadata": {
        "id": "EjmtDnKQE9mI"
      },
      "source": [
        "class CNN(nn.Module):\n",
        "    def __init__(self):\n",
        "        super().__init__()\n",
        "        self.conv1 = nn.Conv2d(\n",
        "            in_channels=1,\n",
        "            out_channels=16,\n",
        "            kernel_size=3,\n",
        "            stride=1,\n",
        "            padding=1\n",
        "        )\n",
        "        self.relu = nn.ReLU()\n",
        "        self.pool = nn.MaxPool2d(kernel_size=2)\n",
        "        self.conv2 = nn.Conv2d(16, 32, 3, 1, 1)\n",
        "        self.linear1 = nn.Linear(\n",
        "            in_features=7*7*32,\n",
        "            out_features=120\n",
        "        )\n",
        "        self.linear2 = nn.Linear(120, 10)\n",
        "\n",
        "    def forward(self, x):\n",
        "        x = self.pool(self.relu(self.conv1(x)))\n",
        "        x = self.pool(self.relu(self.conv2(x)))\n",
        "        x = x.reshape(-1, 7*7*32)\n",
        "        x = self.relu(self.linear1(x))\n",
        "        x = self.linear2(x)\n",
        "        return x"
      ],
      "execution_count": null,
      "outputs": []
    },
    {
      "cell_type": "markdown",
      "metadata": {
        "id": "cXYp1611kfFS"
      },
      "source": [
        "The model's loss and optimizer are also simple."
      ]
    },
    {
      "cell_type": "code",
      "metadata": {
        "id": "OBUvQt8QJSw5"
      },
      "source": [
        "model = CNN().to(device)\n",
        "\n",
        "loss_function = nn.CrossEntropyLoss()\n",
        "optimizer = torch.optim.Adam(model.parameters(), lr=lr)"
      ],
      "execution_count": null,
      "outputs": []
    },
    {
      "cell_type": "markdown",
      "metadata": {
        "id": "aRd3eN2mjhqx"
      },
      "source": [
        "## Training"
      ]
    },
    {
      "cell_type": "code",
      "metadata": {
        "colab": {
          "base_uri": "https://localhost:8080/"
        },
        "id": "7hjci_uQZ4Rk",
        "outputId": "58ca2f35-3710-4846-965e-892447586142"
      },
      "source": [
        "for epoch in range(n_epochs):\n",
        "    for i, data in enumerate(train_loader):\n",
        "        optimizer.zero_grad()\n",
        "\n",
        "        imgs, labels = data\n",
        "        imgs = imgs.to(device)\n",
        "        labels = labels.to(device)\n",
        "\n",
        "        outputs = model(imgs)\n",
        "        loss = loss_function(outputs, labels)\n",
        "        loss.backward()\n",
        "        optimizer.step()\n",
        "\n",
        "        if (i+1) % 250 == 0:\n",
        "            print('Epoch [{}/{}], Step [{}/{}], Loss: {:.4f}' .format(\n",
        "                epoch+1,\n",
        "                n_epochs,\n",
        "                i+1,\n",
        "                len(train_loader),\n",
        "                loss.item()\n",
        "            ))"
      ],
      "execution_count": null,
      "outputs": [
        {
          "output_type": "stream",
          "text": [
            "Epoch [1/5], Step [250/938], Loss: 0.2482\n",
            "Epoch [1/5], Step [500/938], Loss: 0.1015\n",
            "Epoch [1/5], Step [750/938], Loss: 0.0374\n",
            "Epoch [2/5], Step [250/938], Loss: 0.0376\n",
            "Epoch [2/5], Step [500/938], Loss: 0.0288\n",
            "Epoch [2/5], Step [750/938], Loss: 0.0871\n",
            "Epoch [3/5], Step [250/938], Loss: 0.0314\n",
            "Epoch [3/5], Step [500/938], Loss: 0.0094\n",
            "Epoch [3/5], Step [750/938], Loss: 0.0622\n",
            "Epoch [4/5], Step [250/938], Loss: 0.0106\n",
            "Epoch [4/5], Step [500/938], Loss: 0.0839\n",
            "Epoch [4/5], Step [750/938], Loss: 0.0128\n",
            "Epoch [5/5], Step [250/938], Loss: 0.0052\n",
            "Epoch [5/5], Step [500/938], Loss: 0.0320\n",
            "Epoch [5/5], Step [750/938], Loss: 0.0091\n"
          ],
          "name": "stdout"
        }
      ]
    },
    {
      "cell_type": "markdown",
      "metadata": {
        "id": "yWvT1oaEjjmC"
      },
      "source": [
        "## Testing"
      ]
    },
    {
      "cell_type": "markdown",
      "metadata": {
        "id": "OIOa8P6elsCv"
      },
      "source": [
        "In test set, we see good performance."
      ]
    },
    {
      "cell_type": "code",
      "metadata": {
        "colab": {
          "base_uri": "https://localhost:8080/"
        },
        "id": "BgFUaT38aJ5B",
        "outputId": "7fc3f38b-e869-4253-e4e2-3bddf8bc4e14"
      },
      "source": [
        "correct = 0\n",
        "total = 0\n",
        "with torch.no_grad():\n",
        "    for i, data in enumerate(test_loader):\n",
        "        imgs, labels = data\n",
        "        imgs = imgs.to(device)\n",
        "        labels = labels.to(device)\n",
        "\n",
        "        outputs = model(imgs)\n",
        "        predicted = torch.max(outputs, 1)[1]\n",
        "        correct += (predicted == labels).sum().item()\n",
        "        total += len(predicted)\n",
        "print(\"The model's accuracy is {:.2f}%.\".format(correct/total*100))"
      ],
      "execution_count": null,
      "outputs": [
        {
          "output_type": "stream",
          "text": [
            "The model's accuracy is 98.71%.\n"
          ],
          "name": "stdout"
        }
      ]
    },
    {
      "cell_type": "code",
      "metadata": {
        "id": "SysjvxmOaKeg"
      },
      "source": [
        ""
      ],
      "execution_count": null,
      "outputs": []
    }
  ]
}