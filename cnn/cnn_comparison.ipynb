{
  "nbformat": 4,
  "nbformat_minor": 0,
  "metadata": {
    "colab": {
      "name": "cnn_comparison.ipynb",
      "provenance": [],
      "collapsed_sections": [],
      "toc_visible": true,
      "authorship_tag": "ABX9TyNUa5uLo4b0s2Yhhshn1vch",
      "include_colab_link": true
    },
    "kernelspec": {
      "name": "python3",
      "display_name": "Python 3"
    },
    "accelerator": "GPU"
  },
  "cells": [
    {
      "cell_type": "markdown",
      "metadata": {
        "id": "view-in-github",
        "colab_type": "text"
      },
      "source": [
        "<a href=\"https://colab.research.google.com/github/lucasresck/deep-learning-and-applications/blob/main/cnn/cnn_comparison.ipynb\" target=\"_parent\"><img src=\"https://colab.research.google.com/assets/colab-badge.svg\" alt=\"Open In Colab\"/></a>"
      ]
    },
    {
      "cell_type": "markdown",
      "metadata": {
        "id": "e2NQ7xaljLxb"
      },
      "source": [
        "# CNN architectures comparison\n",
        "\n",
        "[Deep Learning and Applications](https://emap.fgv.br/sites/emap.fgv.br/files/ementa_deep_learning_and_applications.pdf)\n",
        "summer course (2021, FGV).\n",
        "\n",
        "**Group**:\n",
        "- Humberto Seghetto dos Santos (PUC-Rio)\n",
        "- Lucas Emanuel Resck Domingues (FGV-EMAp)"
      ]
    },
    {
      "cell_type": "markdown",
      "metadata": {
        "id": "2i2WNo6ByaYn"
      },
      "source": [
        "## Description\n",
        "\n",
        "We will make various experiments with CNNs layers, activation functions and regularization techniques, and we will compare the results.\n",
        "\n",
        "1. **Objective**: Use or create a deep CNN for COVID data set.\n",
        "2. **Activities**: Create a deep model in PyTorch.\n",
        "3. **Experiments**:\n",
        "    - Increment number layer, from 1 to 5, and  analyze the results.\n",
        "    - Experiment by changing the activation  functions (Tanh, ReLU) and analyze the results.\n",
        "    - Experiment changing regularization strategies (1. without regularization; 2. with batch normalization; 3. with dropout).\n",
        "    - With  a CNN with 3 layer, use kernel size:\n",
        "        - (7x7,5x5,3x3)\n",
        "        - (5x5,5x5,3x3)\n",
        "        - (3x3,3x3,3x3)\n",
        "4. Conclude from the results.\n"
      ]
    },
    {
      "cell_type": "markdown",
      "metadata": {
        "id": "fqdmLqOCjUjB"
      },
      "source": [
        "## Setup\n",
        "\n",
        "We install the required libraries, set up the GPU support and also set up the Kaggle support."
      ]
    },
    {
      "cell_type": "code",
      "metadata": {
        "id": "hNBJA-SVfgJ0"
      },
      "source": [
        "# Install libraries\n",
        "!pip install -q kaggle  # For Kaggle dataset\n",
        "!pip install -q split-folders  # Split the data"
      ],
      "execution_count": 1,
      "outputs": []
    },
    {
      "cell_type": "code",
      "metadata": {
        "id": "7S0e2xk9D8aj"
      },
      "source": [
        "# Import libraries\n",
        "from google.colab import files\n",
        "import matplotlib.pyplot as plt\n",
        "import numpy as np\n",
        "import random\n",
        "import seaborn as sns\n",
        "import splitfolders\n",
        "import torch\n",
        "import torchvision\n",
        "import torch.nn as nn\n",
        "import torchvision.transforms as transforms\n",
        "\n",
        "sns.set()"
      ],
      "execution_count": 2,
      "outputs": []
    },
    {
      "cell_type": "code",
      "metadata": {
        "colab": {
          "base_uri": "https://localhost:8080/"
        },
        "id": "WzSDk5leYyAy",
        "outputId": "9ae0b3fd-bf4e-4f08-e1f0-9e7f2f22978b"
      },
      "source": [
        "# GPU setup\n",
        "device = 'cuda:0' if torch.cuda.is_available() else 'cpu'\n",
        "print(device)"
      ],
      "execution_count": 3,
      "outputs": [
        {
          "output_type": "stream",
          "text": [
            "cuda:0\n"
          ],
          "name": "stdout"
        }
      ]
    },
    {
      "cell_type": "code",
      "metadata": {
        "colab": {
          "resources": {
            "http://localhost:8080/nbextensions/google.colab/files.js": {
              "data": "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",
              "ok": true,
              "headers": [
                [
                  "content-type",
                  "application/javascript"
                ]
              ],
              "status": 200,
              "status_text": ""
            }
          },
          "base_uri": "https://localhost:8080/",
          "height": 72
        },
        "id": "Bra1N8MNVEJ3",
        "outputId": "3103afec-5d3f-4fac-ef81-013a6d89f9c7"
      },
      "source": [
        "# Setup for downloading the Kaggle dataset\n",
        "files.upload()  # Upload the Kaggle user API key\n",
        "!mkdir ~/.kaggle\n",
        "!mv kaggle.json ~/.kaggle/\n",
        "!chmod 600 /root/.kaggle/kaggle.json"
      ],
      "execution_count": 4,
      "outputs": [
        {
          "output_type": "display_data",
          "data": {
            "text/html": [
              "\n",
              "     <input type=\"file\" id=\"files-ff29aa2d-8ba6-4338-afe6-0929fe5fe37f\" name=\"files[]\" multiple disabled\n",
              "        style=\"border:none\" />\n",
              "     <output id=\"result-ff29aa2d-8ba6-4338-afe6-0929fe5fe37f\">\n",
              "      Upload widget is only available when the cell has been executed in the\n",
              "      current browser session. Please rerun this cell to enable.\n",
              "      </output>\n",
              "      <script src=\"/nbextensions/google.colab/files.js\"></script> "
            ],
            "text/plain": [
              "<IPython.core.display.HTML object>"
            ]
          },
          "metadata": {
            "tags": []
          }
        },
        {
          "output_type": "stream",
          "text": [
            "Saving kaggle.json to kaggle.json\n"
          ],
          "name": "stdout"
        }
      ]
    },
    {
      "cell_type": "markdown",
      "metadata": {
        "id": "bURrVvR9jX0c"
      },
      "source": [
        "## Data"
      ]
    },
    {
      "cell_type": "markdown",
      "metadata": {
        "id": "5OSn8_1gkFur"
      },
      "source": [
        "We download the COVID dataset from Kaggle, and we split the data."
      ]
    },
    {
      "cell_type": "code",
      "metadata": {
        "colab": {
          "base_uri": "https://localhost:8080/"
        },
        "id": "Y8RMvpf8SKWV",
        "outputId": "86e5c0ba-aa0b-47ae-eb94-f15088bf6644"
      },
      "source": [
        "# Download the files\n",
        "!kaggle datasets download -d tawsifurrahman/covid19-radiography-database\n",
        "\n",
        "# Unzip them\n",
        "!unzip -q covid19-radiography-database.zip\n",
        "\n",
        "# Remove files and folders\n",
        "!rm 'covid19-radiography-database.zip'\n",
        "!rm 'COVID-19 Radiography Database/COVID.metadata.xlsx'\n",
        "!rm 'COVID-19 Radiography Database/NORMAL.metadata.xlsx'\n",
        "!rm 'COVID-19 Radiography Database/README.md.txt'\n",
        "!rm -rf 'COVID-19 Radiography Database/Viral Pneumonia'\n",
        "!rm 'COVID-19 Radiography Database/Viral Pneumonia.metadata.xlsx'\n",
        "\n",
        "# Split data\n",
        "splitfolders.ratio(\n",
        "    'COVID-19 Radiography Database',\n",
        "    output='data',\n",
        "    seed=42,\n",
        "    ratio=(0.8, 0.1, 0.1)\n",
        ")\n",
        "\n",
        "# Delete old files\n",
        "!rm -rf 'COVID-19 Radiography Database'"
      ],
      "execution_count": 5,
      "outputs": [
        {
          "output_type": "stream",
          "text": [
            "Downloading covid19-radiography-database.zip to /content\n",
            "100% 1.14G/1.14G [00:07<00:00, 219MB/s]\n",
            "100% 1.14G/1.14G [00:07<00:00, 162MB/s]\n"
          ],
          "name": "stdout"
        },
        {
          "output_type": "stream",
          "text": [
            "Copying files: 2541 files [00:13, 182.93 files/s]\n"
          ],
          "name": "stderr"
        }
      ]
    },
    {
      "cell_type": "markdown",
      "metadata": {
        "id": "Izl4oiXLghXe"
      },
      "source": [
        "The resulting directory looks like that:\n",
        "\n",
        "```\n",
        "data/\n",
        "    train/\n",
        "        COVID/\n",
        "            img1.jpg\n",
        "            ...\n",
        "        NORMAL/\n",
        "            imga.jpg\n",
        "            ...\n",
        "    val/\n",
        "        COVID/\n",
        "            img2.jpg\n",
        "            ...\n",
        "        NORMAL/\n",
        "            imgb.jpg\n",
        "            ...\n",
        "    test/\n",
        "        COVID/\n",
        "            img3.jpg\n",
        "            ...\n",
        "        NORMAL/\n",
        "            imgc.jpg\n",
        "            ...\n",
        "```\n",
        "\n"
      ]
    },
    {
      "cell_type": "markdown",
      "metadata": {
        "id": "GBTDYbzHgJdG"
      },
      "source": [
        "We import the data sets and create the data loaders."
      ]
    },
    {
      "cell_type": "code",
      "metadata": {
        "id": "lzJ8G3P7Erj3"
      },
      "source": [
        "transformation = transforms.Compose([\n",
        "    transforms.ToTensor(),\n",
        "    transforms.Resize(256),\n",
        "    transforms.CenterCrop(256)\n",
        "])\n",
        "train_set = torchvision.datasets.ImageFolder(\n",
        "    root='data/train',\n",
        "    transform=transformation\n",
        ")\n",
        "val_set = torchvision.datasets.ImageFolder(\n",
        "    root='data/val',\n",
        "    transform=transformation\n",
        ")\n",
        "test_set = torchvision.datasets.ImageFolder(\n",
        "    root='data/test',\n",
        "    transform=transformation\n",
        ")"
      ],
      "execution_count": 6,
      "outputs": []
    },
    {
      "cell_type": "code",
      "metadata": {
        "colab": {
          "base_uri": "https://localhost:8080/"
        },
        "id": "MDBFFvPHi1aL",
        "outputId": "741c8f45-6602-427c-b1bf-e26909731e8b"
      },
      "source": [
        "print('The number of images is {}.'.format(len(train_set)+len(val_set)+len(test_set)))"
      ],
      "execution_count": 7,
      "outputs": [
        {
          "output_type": "stream",
          "text": [
            "The number of images is 2541.\n"
          ],
          "name": "stdout"
        }
      ]
    },
    {
      "cell_type": "code",
      "metadata": {
        "id": "90YjJ9GKa5v1"
      },
      "source": [
        "train_loader = torch.utils.data.DataLoader(\n",
        "    dataset=train_set,\n",
        "    batch_size=64,\n",
        "    shuffle=True\n",
        ")\n",
        "val_loader = torch.utils.data.DataLoader(\n",
        "    dataset=val_set,\n",
        "    batch_size=64,\n",
        "    shuffle=False\n",
        ")\n",
        "test_loader = torch.utils.data.DataLoader(\n",
        "    dataset=test_set,\n",
        "    batch_size=64,\n",
        "    shuffle=False\n",
        ")"
      ],
      "execution_count": 8,
      "outputs": []
    },
    {
      "cell_type": "markdown",
      "metadata": {
        "id": "qnwvrJDYgRCM"
      },
      "source": [
        "Here's an example of an image of the train dataset."
      ]
    },
    {
      "cell_type": "code",
      "metadata": {
        "colab": {
          "base_uri": "https://localhost:8080/",
          "height": 271
        },
        "id": "LjQKGFLGZ56Z",
        "outputId": "86ebc20b-fa02-4b20-ef77-71c1cabcd237"
      },
      "source": [
        "plt.imshow(transforms.ToPILImage()(train_set[0][0]));"
      ],
      "execution_count": 9,
      "outputs": [
        {
          "output_type": "display_data",
          "data": {
            "image/png": "[encoded data removed]",
            "text/plain": [
              "<Figure size 432x288 with 1 Axes>"
            ]
          },
          "metadata": {
            "tags": []
          }
        }
      ]
    },
    {
      "cell_type": "markdown",
      "metadata": {
        "id": "PU3hqY5BhA7Q"
      },
      "source": [
        "## Experiments\n",
        "\n",
        "Here we perform the experiments proprosed in the beggining of our notebook."
      ]
    },
    {
      "cell_type": "code",
      "metadata": {
        "id": "h0oY4TgSZ2XL"
      },
      "source": [
        "# Hyperparameters\n",
        "lr = 0.001\n",
        "n_epochs = 3"
      ],
      "execution_count": 10,
      "outputs": []
    },
    {
      "cell_type": "markdown",
      "metadata": {
        "id": "Rmg6l9mshir4"
      },
      "source": [
        "### Layers\n",
        "\n",
        "We vary the number of layers of the CNN and discuss the results."
      ]
    },
    {
      "cell_type": "markdown",
      "metadata": {
        "id": "S1VEp4HFhvPl"
      },
      "source": [
        "#### 1 layer"
      ]
    },
    {
      "cell_type": "code",
      "metadata": {
        "id": "KUVhlJ_hrsJm"
      },
      "source": [
        "class CNN_1_layer(nn.Module):\n",
        "    def __init__(self):\n",
        "        super().__init__()\n",
        "        self.conv1 = nn.Conv2d(\n",
        "            in_channels=3,\n",
        "            out_channels=16,\n",
        "            kernel_size=3,\n",
        "            stride=1,\n",
        "            padding=1\n",
        "        )\n",
        "        self.relu = nn.ReLU()\n",
        "        self.pool = nn.MaxPool2d(kernel_size=2)\n",
        "        self.linear1 = nn.Linear(\n",
        "            in_features=16*128*128,\n",
        "            out_features=64\n",
        "        )\n",
        "        self.linear2 = nn.Linear(64, 2)\n",
        "\n",
        "    def forward(self, x):\n",
        "        x = self.pool(self.relu(self.conv1(x)))\n",
        "        x = x.reshape(-1, 16*128*128)\n",
        "        x = self.relu(self.linear1(x))\n",
        "        x = self.linear2(x)\n",
        "        return x\n",
        "\n",
        "\n",
        "cnn_1_layer = CNN_1_layer().to(device)\n",
        "loss_function = nn.CrossEntropyLoss()\n",
        "optimizer = torch.optim.Adam(cnn_1_layer.parameters(), lr=lr)"
      ],
      "execution_count": 11,
      "outputs": []
    },
    {
      "cell_type": "code",
      "metadata": {
        "id": "bDUoFDZqs1FG"
      },
      "source": [
        "def train(model, optimizer, loss_function):\n",
        "    losses = []\n",
        "    val_losses = []\n",
        "    val_accs = []\n",
        "    for epoch in range(n_epochs):\n",
        "        running_loss = 0\n",
        "        model.train()\n",
        "        for i, data in enumerate(train_loader):\n",
        "            optimizer.zero_grad()\n",
        "\n",
        "            imgs, labels = data\n",
        "            imgs = imgs.to(device)\n",
        "            labels = labels.to(device)\n",
        "\n",
        "            outputs = model(imgs)\n",
        "            loss = loss_function(outputs, labels)\n",
        "            loss.backward()\n",
        "            optimizer.step()\n",
        "\n",
        "            running_loss += loss.item()\n",
        "\n",
        "            if (i+1) % 10 == 0:\n",
        "                print('Epoch [{}/{}], Step [{}/{}], Loss: {:.4f}' .format(\n",
        "                    epoch+1,\n",
        "                    n_epochs,\n",
        "                    i+1,\n",
        "                    len(train_loader),\n",
        "                    loss.item()\n",
        "                ))\n",
        "\n",
        "        running_loss = running_loss/len(train_loader)\n",
        "        print('Epoch [{}/{}], Mean loss: {:.4f}' .format(\n",
        "            epoch+1,\n",
        "            n_epochs,\n",
        "            running_loss\n",
        "        ), end='')\n",
        "        losses.append(running_loss) \n",
        "\n",
        "        model.eval()\n",
        "        val_loss = 0\n",
        "        with torch.no_grad():\n",
        "            correct = 0\n",
        "            total = 0\n",
        "            for images, labels in val_loader:\n",
        "                images = images.to(device)\n",
        "                labels = labels.to(device)\n",
        "                outputs = model(images)\n",
        "                _, predicted = torch.max(outputs.data, 1)\n",
        "                total += labels.size(0)\n",
        "                correct += (predicted == labels).sum().item()\n",
        "                loss = loss_function(outputs, labels)\n",
        "                val_loss += loss.item()\n",
        "        val_acc = correct/total\n",
        "        val_accs.append(val_acc)\n",
        "        val_loss /= len(val_loader)\n",
        "        val_losses.append(val_loss)\n",
        "        print(', Val loss: {:.4f}, Val acc: {:.3f}'.format(val_loss, val_acc))"
      ],
      "execution_count": 12,
      "outputs": []
    },
    {
      "cell_type": "code",
      "metadata": {
        "colab": {
          "base_uri": "https://localhost:8080/"
        },
        "id": "x3kpd_MYv-8B",
        "outputId": "a7ffad40-22a5-40e1-d803-9f7651f254f9"
      },
      "source": [
        "train(cnn_1_layer, optimizer, loss_function)"
      ],
      "execution_count": 13,
      "outputs": [
        {
          "output_type": "stream",
          "text": [
            "Epoch [1/3], Step [10/32], Loss: 0.0570\n",
            "Epoch [1/3], Step [20/32], Loss: 0.1375\n",
            "Epoch [1/3], Step [30/32], Loss: 0.0099\n",
            "Epoch [1/3], Mean loss: 0.3888, Val loss: 0.0634, Val acc: 0.976\n",
            "Epoch [2/3], Step [10/32], Loss: 0.0302\n",
            "Epoch [2/3], Step [20/32], Loss: 0.0090\n",
            "Epoch [2/3], Step [30/32], Loss: 0.0060\n",
            "Epoch [2/3], Mean loss: 0.0295, Val loss: 0.0318, Val acc: 0.988\n",
            "Epoch [3/3], Step [10/32], Loss: 0.0303\n",
            "Epoch [3/3], Step [20/32], Loss: 0.0029\n",
            "Epoch [3/3], Step [30/32], Loss: 0.0025\n",
            "Epoch [3/3], Mean loss: 0.0114, Val loss: 0.0309, Val acc: 0.988\n"
          ],
          "name": "stdout"
        }
      ]
    },
    {
      "cell_type": "code",
      "metadata": {
        "id": "QB8WKfUG4JVc"
      },
      "source": [
        "def test(model):\n",
        "    model.eval()\n",
        "    with torch.no_grad():\n",
        "        correct = 0\n",
        "        total = 0\n",
        "        for images, labels in test_loader:\n",
        "            images = images.to(device)\n",
        "            labels = labels.to(device)\n",
        "            outputs = model(images)\n",
        "            _, predicted = torch.max(outputs.data, 1)\n",
        "            total += labels.size(0)\n",
        "            correct += (predicted == labels).sum().item()\n",
        "    acc = correct/total\n",
        "    print('The accuracy of the model on test set is {:.4f}.'.format(acc))\n",
        "    return acc"
      ],
      "execution_count": 14,
      "outputs": []
    },
    {
      "cell_type": "code",
      "metadata": {
        "colab": {
          "base_uri": "https://localhost:8080/"
        },
        "id": "0d7cyuS44nsn",
        "outputId": "a9925ce8-cdaa-4143-cac8-2c39a14a4958"
      },
      "source": [
        "acc_layers = [test(cnn_1_layer)]"
      ],
      "execution_count": 15,
      "outputs": [
        {
          "output_type": "stream",
          "text": [
            "The accuracy of the model on test set is 0.9922.\n"
          ],
          "name": "stdout"
        }
      ]
    },
    {
      "cell_type": "markdown",
      "metadata": {
        "id": "laZaQFC9iWMr"
      },
      "source": [
        "#### 2 layers"
      ]
    },
    {
      "cell_type": "code",
      "metadata": {
        "id": "EjmtDnKQE9mI"
      },
      "source": [
        "class CNN_2_layers(nn.Module):\n",
        "    def __init__(self):\n",
        "        super().__init__()\n",
        "        self.conv1 = nn.Conv2d(3, 16, 3, 1, 1)\n",
        "        self.relu = nn.ReLU()\n",
        "        self.pool = nn.MaxPool2d(2)\n",
        "        self.conv2 = nn.Conv2d(16, 32, 3, 1, 1)\n",
        "        self.linear1 = nn.Linear(64*64*32, 64)\n",
        "        self.linear2 = nn.Linear(64, 2)\n",
        "\n",
        "    def forward(self, x):\n",
        "        x = self.pool(self.relu(self.conv1(x)))\n",
        "        x = self.pool(self.relu(self.conv2(x)))\n",
        "        x = x.reshape(-1, 64*64*32)\n",
        "        x = self.relu(self.linear1(x))\n",
        "        x = self.linear2(x)\n",
        "        return x\n",
        "\n",
        "cnn_2_layers = CNN_2_layers().to(device)\n",
        "loss_function = nn.CrossEntropyLoss()\n",
        "optimizer = torch.optim.Adam(cnn_2_layers.parameters(), lr=lr)"
      ],
      "execution_count": 16,
      "outputs": []
    },
    {
      "cell_type": "code",
      "metadata": {
        "colab": {
          "base_uri": "https://localhost:8080/"
        },
        "id": "1Y6L1XCn71Pa",
        "outputId": "fda9453d-e441-47b3-d580-24593c8fb4e9"
      },
      "source": [
        "train(cnn_2_layers, optimizer, loss_function)"
      ],
      "execution_count": 17,
      "outputs": [
        {
          "output_type": "stream",
          "text": [
            "Epoch [1/3], Step [10/32], Loss: 0.3094\n",
            "Epoch [1/3], Step [20/32], Loss: 0.0699\n",
            "Epoch [1/3], Step [30/32], Loss: 0.0853\n",
            "Epoch [1/3], Mean loss: 0.3936, Val loss: 0.1172, Val acc: 0.972\n",
            "Epoch [2/3], Step [10/32], Loss: 0.0159\n",
            "Epoch [2/3], Step [20/32], Loss: 0.0410\n",
            "Epoch [2/3], Step [30/32], Loss: 0.0056\n",
            "Epoch [2/3], Mean loss: 0.0530, Val loss: 0.0387, Val acc: 0.984\n",
            "Epoch [3/3], Step [10/32], Loss: 0.0195\n",
            "Epoch [3/3], Step [20/32], Loss: 0.0513\n",
            "Epoch [3/3], Step [30/32], Loss: 0.0123\n",
            "Epoch [3/3], Mean loss: 0.0364, Val loss: 0.0536, Val acc: 0.980\n"
          ],
          "name": "stdout"
        }
      ]
    },
    {
      "cell_type": "code",
      "metadata": {
        "colab": {
          "base_uri": "https://localhost:8080/"
        },
        "id": "Ykqkwyyw8qP_",
        "outputId": "b40a4ab5-b1c2-4873-8e21-9b59f4aac6d9"
      },
      "source": [
        "acc_layers.append(test(cnn_2_layers))"
      ],
      "execution_count": 18,
      "outputs": [
        {
          "output_type": "stream",
          "text": [
            "The accuracy of the model on test set is 0.9725.\n"
          ],
          "name": "stdout"
        }
      ]
    },
    {
      "cell_type": "markdown",
      "metadata": {
        "id": "mB0qNVxc8yyy"
      },
      "source": [
        "#### 3 layers"
      ]
    },
    {
      "cell_type": "code",
      "metadata": {
        "id": "0InBP0_J8yzE"
      },
      "source": [
        "class CNN_3_layers(nn.Module):\n",
        "    def __init__(self):\n",
        "        super().__init__()\n",
        "        self.conv1 = nn.Conv2d(3, 16, 3, 1, 1)\n",
        "        self.relu = nn.ReLU()\n",
        "        self.pool = nn.MaxPool2d(2)\n",
        "        self.conv2 = nn.Conv2d(16, 32, 3, 1, 1)\n",
        "        self.conv3 = nn.Conv2d(32, 32, 3, 1, 1)\n",
        "        self.linear1 = nn.Linear(32*32*32, 64)\n",
        "        self.linear2 = nn.Linear(64, 2)\n",
        "\n",
        "    def forward(self, x):\n",
        "        x = self.pool(self.relu(self.conv1(x)))\n",
        "        x = self.pool(self.relu(self.conv2(x)))\n",
        "        x = self.pool(self.relu(self.conv3(x)))\n",
        "        x = x.reshape(-1, 32*32*32)\n",
        "        x = self.relu(self.linear1(x))\n",
        "        x = self.linear2(x)\n",
        "        return x\n",
        "\n",
        "cnn_3_layers = CNN_3_layers().to(device)\n",
        "loss_function = nn.CrossEntropyLoss()\n",
        "optimizer = torch.optim.Adam(cnn_3_layers.parameters(), lr=lr)"
      ],
      "execution_count": 19,
      "outputs": []
    },
    {
      "cell_type": "code",
      "metadata": {
        "colab": {
          "base_uri": "https://localhost:8080/"
        },
        "id": "XK6T_bBU8yzG",
        "outputId": "56dd1f58-8d53-4e8a-85b1-682c402c7552"
      },
      "source": [
        "train(cnn_3_layers, optimizer, loss_function)"
      ],
      "execution_count": 20,
      "outputs": [
        {
          "output_type": "stream",
          "text": [
            "Epoch [1/3], Step [10/32], Loss: 0.1436\n",
            "Epoch [1/3], Step [20/32], Loss: 0.0996\n",
            "Epoch [1/3], Step [30/32], Loss: 0.0183\n",
            "Epoch [1/3], Mean loss: 0.1681, Val loss: 0.1235, Val acc: 0.972\n",
            "Epoch [2/3], Step [10/32], Loss: 0.0378\n",
            "Epoch [2/3], Step [20/32], Loss: 0.0287\n",
            "Epoch [2/3], Step [30/32], Loss: 0.0801\n",
            "Epoch [2/3], Mean loss: 0.0534, Val loss: 0.0796, Val acc: 0.972\n",
            "Epoch [3/3], Step [10/32], Loss: 0.1314\n",
            "Epoch [3/3], Step [20/32], Loss: 0.0396\n",
            "Epoch [3/3], Step [30/32], Loss: 0.0046\n",
            "Epoch [3/3], Mean loss: 0.0475, Val loss: 0.0722, Val acc: 0.976\n"
          ],
          "name": "stdout"
        }
      ]
    },
    {
      "cell_type": "code",
      "metadata": {
        "colab": {
          "base_uri": "https://localhost:8080/"
        },
        "id": "y3q4V55m8yzH",
        "outputId": "677a522a-0ab5-4b60-fa92-50a4d25b885e"
      },
      "source": [
        "acc_layers.append(test(cnn_3_layers))"
      ],
      "execution_count": 21,
      "outputs": [
        {
          "output_type": "stream",
          "text": [
            "The accuracy of the model on test set is 0.9843.\n"
          ],
          "name": "stdout"
        }
      ]
    },
    {
      "cell_type": "markdown",
      "metadata": {
        "id": "zsO9Om6m95ab"
      },
      "source": [
        "#### 4 layers"
      ]
    },
    {
      "cell_type": "code",
      "metadata": {
        "id": "6TZD7hks95ad"
      },
      "source": [
        "class CNN_4_layers(nn.Module):\n",
        "    def __init__(self):\n",
        "        super().__init__()\n",
        "        self.conv1 = nn.Conv2d(3, 16, 3, 1, 1)\n",
        "        self.relu = nn.ReLU()\n",
        "        self.pool = nn.MaxPool2d(2)\n",
        "        self.conv2 = nn.Conv2d(16, 32, 3, 1, 1)\n",
        "        self.conv3 = nn.Conv2d(32, 32, 3, 1, 1)\n",
        "        self.conv4 = nn.Conv2d(32, 32, 3, 1, 1)\n",
        "        self.linear1 = nn.Linear(16*16*32, 64)\n",
        "        self.linear2 = nn.Linear(64, 2)\n",
        "\n",
        "    def forward(self, x):\n",
        "        x = self.pool(self.relu(self.conv1(x)))\n",
        "        x = self.pool(self.relu(self.conv2(x)))\n",
        "        x = self.pool(self.relu(self.conv3(x)))\n",
        "        x = self.pool(self.relu(self.conv4(x)))\n",
        "        x = x.reshape(-1, 16*16*32)\n",
        "        x = self.relu(self.linear1(x))\n",
        "        x = self.linear2(x)\n",
        "        return x\n",
        "\n",
        "cnn_4_layers = CNN_4_layers().to(device)\n",
        "loss_function = nn.CrossEntropyLoss()\n",
        "optimizer = torch.optim.Adam(cnn_4_layers.parameters(), lr=lr)"
      ],
      "execution_count": 22,
      "outputs": []
    },
    {
      "cell_type": "code",
      "metadata": {
        "colab": {
          "base_uri": "https://localhost:8080/"
        },
        "id": "FYu6xgLI95af",
        "outputId": "fc80ee74-358f-4172-f24c-7e94f0127131"
      },
      "source": [
        "train(cnn_4_layers, optimizer, loss_function)"
      ],
      "execution_count": 23,
      "outputs": [
        {
          "output_type": "stream",
          "text": [
            "Epoch [1/3], Step [10/32], Loss: 0.4248\n",
            "Epoch [1/3], Step [20/32], Loss: 0.1011\n",
            "Epoch [1/3], Step [30/32], Loss: 0.1517\n",
            "Epoch [1/3], Mean loss: 0.3230, Val loss: 0.1579, Val acc: 0.965\n",
            "Epoch [2/3], Step [10/32], Loss: 0.1261\n",
            "Epoch [2/3], Step [20/32], Loss: 0.0413\n",
            "Epoch [2/3], Step [30/32], Loss: 0.1959\n",
            "Epoch [2/3], Mean loss: 0.0970, Val loss: 0.0902, Val acc: 0.976\n",
            "Epoch [3/3], Step [10/32], Loss: 0.1375\n",
            "Epoch [3/3], Step [20/32], Loss: 0.0607\n",
            "Epoch [3/3], Step [30/32], Loss: 0.0184\n",
            "Epoch [3/3], Mean loss: 0.0616, Val loss: 0.0829, Val acc: 0.969\n"
          ],
          "name": "stdout"
        }
      ]
    },
    {
      "cell_type": "code",
      "metadata": {
        "colab": {
          "base_uri": "https://localhost:8080/"
        },
        "id": "dLadRoVT95ag",
        "outputId": "a3d8d8d1-e233-4628-e91e-206b2ab750df"
      },
      "source": [
        "acc_layers.append(test(cnn_4_layers))"
      ],
      "execution_count": 24,
      "outputs": [
        {
          "output_type": "stream",
          "text": [
            "The accuracy of the model on test set is 0.9647.\n"
          ],
          "name": "stdout"
        }
      ]
    },
    {
      "cell_type": "markdown",
      "metadata": {
        "id": "YUDHKKM5_apv"
      },
      "source": [
        "#### 5 layers"
      ]
    },
    {
      "cell_type": "code",
      "metadata": {
        "id": "ogvOGOR1_aqD"
      },
      "source": [
        "class CNN_5_layers(nn.Module):\n",
        "    def __init__(self):\n",
        "        super().__init__()\n",
        "        self.conv1 = nn.Conv2d(3, 16, 3, 1, 1)\n",
        "        self.relu = nn.ReLU()\n",
        "        self.pool = nn.MaxPool2d(2)\n",
        "        self.conv2 = nn.Conv2d(16, 32, 3, 1, 1)\n",
        "        self.conv3 = nn.Conv2d(32, 32, 3, 1, 1)\n",
        "        self.conv4 = nn.Conv2d(32, 32, 3, 1, 1)\n",
        "        self.conv5 = nn.Conv2d(32, 32, 3, 1, 1)\n",
        "        self.linear1 = nn.Linear(8*8*32, 64)\n",
        "        self.linear2 = nn.Linear(64, 2)\n",
        "\n",
        "    def forward(self, x):\n",
        "        x = self.pool(self.relu(self.conv1(x)))\n",
        "        x = self.pool(self.relu(self.conv2(x)))\n",
        "        x = self.pool(self.relu(self.conv3(x)))\n",
        "        x = self.pool(self.relu(self.conv4(x)))\n",
        "        x = self.pool(self.relu(self.conv5(x)))\n",
        "        x = x.reshape(-1, 8*8*32)\n",
        "        x = self.relu(self.linear1(x))\n",
        "        x = self.linear2(x)\n",
        "        return x\n",
        "\n",
        "cnn_5_layers = CNN_5_layers().to(device)\n",
        "loss_function = nn.CrossEntropyLoss()\n",
        "optimizer = torch.optim.Adam(cnn_5_layers.parameters(), lr=lr)"
      ],
      "execution_count": 25,
      "outputs": []
    },
    {
      "cell_type": "code",
      "metadata": {
        "colab": {
          "base_uri": "https://localhost:8080/"
        },
        "id": "EQ2X1PZx_aqF",
        "outputId": "83daf731-0e00-4610-d602-2289425dc554"
      },
      "source": [
        "train(cnn_5_layers, optimizer, loss_function)"
      ],
      "execution_count": 26,
      "outputs": [
        {
          "output_type": "stream",
          "text": [
            "Epoch [1/3], Step [10/32], Loss: 0.6360\n",
            "Epoch [1/3], Step [20/32], Loss: 0.0897\n",
            "Epoch [1/3], Step [30/32], Loss: 0.1230\n",
            "Epoch [1/3], Mean loss: 0.3879, Val loss: 0.1120, Val acc: 0.972\n",
            "Epoch [2/3], Step [10/32], Loss: 0.2345\n",
            "Epoch [2/3], Step [20/32], Loss: 0.1212\n",
            "Epoch [2/3], Step [30/32], Loss: 0.0300\n",
            "Epoch [2/3], Mean loss: 0.0898, Val loss: 0.0876, Val acc: 0.972\n",
            "Epoch [3/3], Step [10/32], Loss: 0.0029\n",
            "Epoch [3/3], Step [20/32], Loss: 0.0237\n",
            "Epoch [3/3], Step [30/32], Loss: 0.0160\n",
            "Epoch [3/3], Mean loss: 0.0675, Val loss: 0.0986, Val acc: 0.969\n"
          ],
          "name": "stdout"
        }
      ]
    },
    {
      "cell_type": "code",
      "metadata": {
        "colab": {
          "base_uri": "https://localhost:8080/"
        },
        "id": "AXI0E1O0_aqG",
        "outputId": "cdb0d412-1447-4412-c77c-a1cc40a2acb7"
      },
      "source": [
        "acc_layers.append(test(cnn_5_layers))"
      ],
      "execution_count": 27,
      "outputs": [
        {
          "output_type": "stream",
          "text": [
            "The accuracy of the model on test set is 0.9569.\n"
          ],
          "name": "stdout"
        }
      ]
    },
    {
      "cell_type": "markdown",
      "metadata": {
        "id": "NV-E0bvFATZx"
      },
      "source": [
        "#### Comparison"
      ]
    },
    {
      "cell_type": "code",
      "metadata": {
        "colab": {
          "base_uri": "https://localhost:8080/",
          "height": 301
        },
        "id": "ei_wulh_AVWQ",
        "outputId": "85dd9f1e-360b-44ae-ef84-b4e6505abd7c"
      },
      "source": [
        "fig, ax = plt.subplots(1, 1)\n",
        "sns.barplot(x=list(range(1, 6)), y=acc_layers, ax=ax)\n",
        "ax.set_ylim([0.95, 1])\n",
        "plt.title('Accuracy on test data')\n",
        "plt.xlabel('Number of layers')\n",
        "plt.ylabel('Accuracy')\n",
        "plt.show()"
      ],
      "execution_count": 28,
      "outputs": [
        {
          "output_type": "display_data",
          "data": {
            "image/png": "[encoded data removed]",
            "text/plain": [
              "<Figure size 432x288 with 1 Axes>"
            ]
          },
          "metadata": {
            "tags": []
          }
        }
      ]
    },
    {
      "cell_type": "markdown",
      "metadata": {
        "id": "oxSbozazBJkJ"
      },
      "source": [
        "With our results, we conclude that the best model was the one with **1 layer**."
      ]
    },
    {
      "cell_type": "markdown",
      "metadata": {
        "id": "q_I0XhVwBinq"
      },
      "source": [
        "### Activation functions\n",
        "\n",
        "We experiment with some activate functions and discuss the results. Because of the experiments with various number of layers, we will choose to work with 1 layer."
      ]
    },
    {
      "cell_type": "markdown",
      "metadata": {
        "id": "oKolIfRjCCbP"
      },
      "source": [
        "#### ReLU\n",
        "\n",
        "It was already fitted in the previous section (2 layers CNN)."
      ]
    },
    {
      "cell_type": "code",
      "metadata": {
        "id": "GifN4OR93o2f"
      },
      "source": [
        "acc_activation = [acc_layers[0]]"
      ],
      "execution_count": 29,
      "outputs": []
    },
    {
      "cell_type": "markdown",
      "metadata": {
        "id": "HsogOCt3B8US"
      },
      "source": [
        "#### Tanh"
      ]
    },
    {
      "cell_type": "code",
      "metadata": {
        "id": "LW5g-36wCXi7"
      },
      "source": [
        "class CNN_tanh(nn.Module):\n",
        "    def __init__(self):\n",
        "        super().__init__()\n",
        "        self.conv1 = nn.Conv2d(3, 16, 3, 1, 1)\n",
        "        self.tanh = nn.Tanh()\n",
        "        self.pool = nn.MaxPool2d(2)\n",
        "        self.linear1 = nn.Linear(128*128*16, 64)\n",
        "        self.linear2 = nn.Linear(64, 2)\n",
        "\n",
        "    def forward(self, x):\n",
        "        x = self.pool(self.tanh(self.conv1(x)))\n",
        "        x = x.reshape(-1, 128*128*16)\n",
        "        x = self.tanh(self.linear1(x))\n",
        "        x = self.linear2(x)\n",
        "        return x\n",
        "\n",
        "cnn_tanh = CNN_tanh().to(device)\n",
        "loss_function = nn.CrossEntropyLoss()\n",
        "optimizer = torch.optim.Adam(cnn_tanh.parameters(), lr=lr)"
      ],
      "execution_count": 30,
      "outputs": []
    },
    {
      "cell_type": "code",
      "metadata": {
        "colab": {
          "base_uri": "https://localhost:8080/"
        },
        "id": "mRiwcrQFCXi9",
        "outputId": "ad36f6a5-9361-4465-b51f-0ebdd4a19349"
      },
      "source": [
        "train(cnn_tanh, optimizer, loss_function)"
      ],
      "execution_count": 31,
      "outputs": [
        {
          "output_type": "stream",
          "text": [
            "Epoch [1/3], Step [10/32], Loss: 2.2578\n",
            "Epoch [1/3], Step [20/32], Loss: 1.7422\n",
            "Epoch [1/3], Step [30/32], Loss: 1.3049\n",
            "Epoch [1/3], Mean loss: 1.9017, Val loss: 1.0585, Val acc: 0.528\n",
            "Epoch [2/3], Step [10/32], Loss: 0.7410\n",
            "Epoch [2/3], Step [20/32], Loss: 0.6842\n",
            "Epoch [2/3], Step [30/32], Loss: 0.7057\n",
            "Epoch [2/3], Mean loss: 0.7707, Val loss: 0.7018, Val acc: 0.472\n",
            "Epoch [3/3], Step [10/32], Loss: 0.6964\n",
            "Epoch [3/3], Step [20/32], Loss: 0.6945\n",
            "Epoch [3/3], Step [30/32], Loss: 0.6912\n",
            "Epoch [3/3], Mean loss: 0.6952, Val loss: 0.6913, Val acc: 0.528\n"
          ],
          "name": "stdout"
        }
      ]
    },
    {
      "cell_type": "code",
      "metadata": {
        "colab": {
          "base_uri": "https://localhost:8080/"
        },
        "id": "khYzf8DlCXi_",
        "outputId": "8d8c08e8-8616-4375-f2e3-736b018bd852"
      },
      "source": [
        "acc_activation.append(test(cnn_tanh))"
      ],
      "execution_count": 32,
      "outputs": [
        {
          "output_type": "stream",
          "text": [
            "The accuracy of the model on test set is 0.5294.\n"
          ],
          "name": "stdout"
        }
      ]
    },
    {
      "cell_type": "markdown",
      "metadata": {
        "id": "C2dwobAFCrSQ"
      },
      "source": [
        "#### Comparison"
      ]
    },
    {
      "cell_type": "code",
      "metadata": {
        "colab": {
          "base_uri": "https://localhost:8080/",
          "height": 301
        },
        "id": "Qa1q2h8jCwP-",
        "outputId": "7b516714-9b89-4217-a82a-fd166f724617"
      },
      "source": [
        "fig, ax = plt.subplots(1, 1)\n",
        "sns.barplot(x=['ReLU', 'Tanh'], y=acc_activation, ax=ax)\n",
        "ax.set_ylim([0, 1])\n",
        "plt.title('Accuracy on test data')\n",
        "plt.xlabel('Activation function')\n",
        "plt.ylabel('Accuracy')\n",
        "plt.show()"
      ],
      "execution_count": 33,
      "outputs": [
        {
          "output_type": "display_data",
          "data": {
            "image/png": "[encoded data removed]",
            "text/plain": [
              "<Figure size 432x288 with 1 Axes>"
            ]
          },
          "metadata": {
            "tags": []
          }
        }
      ]
    },
    {
      "cell_type": "markdown",
      "metadata": {
        "id": "N7sDzmzWCwQP"
      },
      "source": [
        "With our results, we conclude that the best model was by far the one with **ReLU**."
      ]
    },
    {
      "cell_type": "markdown",
      "metadata": {
        "id": "7t3xawtnEmbu"
      },
      "source": [
        "### Regularization strategies\n",
        "\n",
        "We experiment various regularization strategies."
      ]
    },
    {
      "cell_type": "markdown",
      "metadata": {
        "id": "hvg3xJZHEvAp"
      },
      "source": [
        "#### Without regularization\n",
        "\n",
        "Consider the 1 layer CNN with ReLU."
      ]
    },
    {
      "cell_type": "code",
      "metadata": {
        "id": "ZHi6RLHG32j7"
      },
      "source": [
        "acc_regu = [acc_layers[0]]"
      ],
      "execution_count": 43,
      "outputs": []
    },
    {
      "cell_type": "markdown",
      "metadata": {
        "id": "3j0n2SBQFCT3"
      },
      "source": [
        "#### Batch normalization"
      ]
    },
    {
      "cell_type": "code",
      "metadata": {
        "id": "--Fw4F6TFL_l"
      },
      "source": [
        "class CNN_batch_normalization(nn.Module):\n",
        "    def __init__(self):\n",
        "        super().__init__()\n",
        "        self.conv1 = nn.Conv2d(3, 16, 3, 1, 1)\n",
        "        self.bn_1 = nn.BatchNorm2d(16)\n",
        "        self.relu = nn.ReLU()\n",
        "        self.pool = nn.MaxPool2d(2)\n",
        "        self.linear1 = nn.Linear(128*128*16, 64)\n",
        "        self.linear2 = nn.Linear(64, 2)\n",
        "\n",
        "    def forward(self, x):\n",
        "        x = self.pool(self.relu(self.bn_1(self.conv1(x))))\n",
        "        x = x.reshape(-1, 128*128*16)\n",
        "        x = self.relu(self.linear1(x))\n",
        "        x = self.linear2(x)\n",
        "        return x\n",
        "\n",
        "cnn_batch_normalization = CNN_batch_normalization().to(device)\n",
        "loss_function = nn.CrossEntropyLoss()\n",
        "optimizer = torch.optim.Adam(cnn_batch_normalization.parameters(), lr=lr)"
      ],
      "execution_count": 44,
      "outputs": []
    },
    {
      "cell_type": "code",
      "metadata": {
        "colab": {
          "base_uri": "https://localhost:8080/"
        },
        "id": "qVB_eh4yFL_2",
        "outputId": "2140c2da-2a76-4fac-a0d5-3043150cb376"
      },
      "source": [
        "train(cnn_batch_normalization, optimizer, loss_function)"
      ],
      "execution_count": 45,
      "outputs": [
        {
          "output_type": "stream",
          "text": [
            "Epoch [1/3], Step [10/32], Loss: 3.2889\n",
            "Epoch [1/3], Step [20/32], Loss: 0.6555\n",
            "Epoch [1/3], Step [30/32], Loss: 4.5954\n",
            "Epoch [1/3], Mean loss: 1.6628, Val loss: 0.8894, Val acc: 0.953\n",
            "Epoch [2/3], Step [10/32], Loss: 0.0000\n",
            "Epoch [2/3], Step [20/32], Loss: 0.0000\n",
            "Epoch [2/3], Step [30/32], Loss: 0.0082\n",
            "Epoch [2/3], Mean loss: 0.7856, Val loss: 2.3207, Val acc: 0.972\n",
            "Epoch [3/3], Step [10/32], Loss: 0.0000\n",
            "Epoch [3/3], Step [20/32], Loss: 0.0000\n",
            "Epoch [3/3], Step [30/32], Loss: 0.0000\n",
            "Epoch [3/3], Mean loss: 0.6554, Val loss: 2.0653, Val acc: 0.957\n"
          ],
          "name": "stdout"
        }
      ]
    },
    {
      "cell_type": "code",
      "metadata": {
        "colab": {
          "base_uri": "https://localhost:8080/"
        },
        "id": "IJhoYL2yFL_4",
        "outputId": "fbf985c5-63df-45aa-cf7b-f366b8e4bce8"
      },
      "source": [
        "acc_regu.append(test(cnn_batch_normalization))"
      ],
      "execution_count": 46,
      "outputs": [
        {
          "output_type": "stream",
          "text": [
            "The accuracy of the model on test set is 0.9333.\n"
          ],
          "name": "stdout"
        }
      ]
    },
    {
      "cell_type": "markdown",
      "metadata": {
        "id": "5VFsEjpaI6LZ"
      },
      "source": [
        "#### Dropout"
      ]
    },
    {
      "cell_type": "code",
      "metadata": {
        "id": "3ZhqRaR_JUeo"
      },
      "source": [
        "class CNN_dropout(nn.Module):\n",
        "    def __init__(self):\n",
        "        super().__init__()\n",
        "        self.conv1 = nn.Conv2d(3, 16, 3, 1, 1)\n",
        "        self.relu = nn.ReLU()\n",
        "        self.dropout = nn.Dropout(0.5)\n",
        "        self.pool = nn.MaxPool2d(2)\n",
        "        self.linear1 = nn.Linear(128*128*16, 64)\n",
        "        self.linear2 = nn.Linear(64, 2)\n",
        "\n",
        "    def forward(self, x):\n",
        "        x = self.pool(self.dropout(self.relu(self.conv1(x))))\n",
        "        x = x.reshape(-1, 128*128*16)\n",
        "        x = self.dropout(self.relu(self.linear1(x)))\n",
        "        x = self.linear2(x)\n",
        "        return x\n",
        "\n",
        "cnn_dropout = CNN_dropout().to(device)\n",
        "loss_function = nn.CrossEntropyLoss()\n",
        "optimizer = torch.optim.Adam(cnn_dropout.parameters(), lr=lr)"
      ],
      "execution_count": 47,
      "outputs": []
    },
    {
      "cell_type": "code",
      "metadata": {
        "colab": {
          "base_uri": "https://localhost:8080/"
        },
        "id": "yz0kxvB_JUer",
        "outputId": "34d8628c-50ae-4fe5-c17a-8ac502ae9076"
      },
      "source": [
        "train(cnn_dropout, optimizer, loss_function)"
      ],
      "execution_count": 48,
      "outputs": [
        {
          "output_type": "stream",
          "text": [
            "Epoch [1/3], Step [10/32], Loss: 1.0402\n",
            "Epoch [1/3], Step [20/32], Loss: 0.1566\n",
            "Epoch [1/3], Step [30/32], Loss: 0.1798\n",
            "Epoch [1/3], Mean loss: 1.8042, Val loss: 0.0849, Val acc: 0.972\n",
            "Epoch [2/3], Step [10/32], Loss: 0.0626\n",
            "Epoch [2/3], Step [20/32], Loss: 0.3165\n",
            "Epoch [2/3], Step [30/32], Loss: 0.0963\n",
            "Epoch [2/3], Mean loss: 0.1584, Val loss: 0.0654, Val acc: 0.972\n",
            "Epoch [3/3], Step [10/32], Loss: 0.1588\n",
            "Epoch [3/3], Step [20/32], Loss: 0.0785\n",
            "Epoch [3/3], Step [30/32], Loss: 0.1968\n",
            "Epoch [3/3], Mean loss: 0.1390, Val loss: 0.0766, Val acc: 0.972\n"
          ],
          "name": "stdout"
        }
      ]
    },
    {
      "cell_type": "code",
      "metadata": {
        "colab": {
          "base_uri": "https://localhost:8080/"
        },
        "id": "9UFndQZuJUes",
        "outputId": "12204c3c-a9dd-4087-a9e3-e0cc46487680"
      },
      "source": [
        "acc_regu.append(test(cnn_dropout))"
      ],
      "execution_count": 49,
      "outputs": [
        {
          "output_type": "stream",
          "text": [
            "The accuracy of the model on test set is 0.9608.\n"
          ],
          "name": "stdout"
        }
      ]
    },
    {
      "cell_type": "markdown",
      "metadata": {
        "id": "zyvBbZ8MI0Hw"
      },
      "source": [
        "#### Comparison"
      ]
    },
    {
      "cell_type": "code",
      "metadata": {
        "colab": {
          "base_uri": "https://localhost:8080/",
          "height": 301
        },
        "id": "VQ1wqgbiI0IP",
        "outputId": "ab8e618a-232f-40b2-c8b9-33720b1664d2"
      },
      "source": [
        "fig, ax = plt.subplots(1, 1)\n",
        "sns.barplot(x=['Nothing', 'Batch normalization', 'Dropout'], y=acc_regu, ax=ax)\n",
        "plt.title('Accuracy on test data')\n",
        "plt.xlabel('Regularization technique')\n",
        "plt.ylabel('Accuracy')\n",
        "plt.ylim([0.8, 1])\n",
        "plt.show()"
      ],
      "execution_count": 50,
      "outputs": [
        {
          "output_type": "display_data",
          "data": {
            "image/png": "[encoded data removed]",
            "text/plain": [
              "<Figure size 432x288 with 1 Axes>"
            ]
          },
          "metadata": {
            "tags": []
          }
        }
      ]
    },
    {
      "cell_type": "markdown",
      "metadata": {
        "id": "4KLw8mWeI0IR"
      },
      "source": [
        "With our results, we conclude that the best model was the one without regularization."
      ]
    },
    {
      "cell_type": "markdown",
      "metadata": {
        "id": "SOMdVQd7NGsh"
      },
      "source": [
        "### Kernel size\n",
        "\n",
        "We experiment various kernel sizes."
      ]
    },
    {
      "cell_type": "markdown",
      "metadata": {
        "id": "mS3vgnTD66D-"
      },
      "source": [
        "#### (7x7, 5x5, 3x3)\n",
        "\n"
      ]
    },
    {
      "cell_type": "code",
      "metadata": {
        "id": "RznhdnnZ698_"
      },
      "source": [
        "class CNN_753(nn.Module):\n",
        "    def __init__(self):\n",
        "        super().__init__()\n",
        "        self.conv1 = nn.Conv2d(3, 16, 7, 1, 3)\n",
        "        self.relu = nn.ReLU()\n",
        "        self.pool = nn.MaxPool2d(2)\n",
        "        self.conv2 = nn.Conv2d(16, 32, 5, 1, 2)\n",
        "        self.conv3 = nn.Conv2d(32, 32, 3, 1, 1)\n",
        "        self.linear1 = nn.Linear(32*32*32, 64)\n",
        "        self.linear2 = nn.Linear(64, 2)\n",
        "\n",
        "    def forward(self, x):\n",
        "        x = self.pool(self.relu(self.conv1(x)))\n",
        "        x = self.pool(self.relu(self.conv2(x)))\n",
        "        x = self.pool(self.relu(self.conv3(x)))\n",
        "        x = x.reshape(-1, 32*32*32)\n",
        "        x = self.relu(self.linear1(x))\n",
        "        x = self.linear2(x)\n",
        "        return x\n",
        "\n",
        "cnn_753 = CNN_753().to(device)\n",
        "loss_function = nn.CrossEntropyLoss()\n",
        "optimizer = torch.optim.Adam(cnn_753.parameters(), lr=lr)"
      ],
      "execution_count": 51,
      "outputs": []
    },
    {
      "cell_type": "code",
      "metadata": {
        "colab": {
          "base_uri": "https://localhost:8080/"
        },
        "id": "P0L0bObW7Vv1",
        "outputId": "5d446b2e-2ac4-4c50-9c48-911dca75068c"
      },
      "source": [
        "train(cnn_753, optimizer, loss_function)"
      ],
      "execution_count": 52,
      "outputs": [
        {
          "output_type": "stream",
          "text": [
            "Epoch [1/3], Step [10/32], Loss: 0.1560\n",
            "Epoch [1/3], Step [20/32], Loss: 0.1987\n",
            "Epoch [1/3], Step [30/32], Loss: 0.0761\n",
            "Epoch [1/3], Mean loss: 0.2428, Val loss: 0.0747, Val acc: 0.969\n",
            "Epoch [2/3], Step [10/32], Loss: 0.0385\n",
            "Epoch [2/3], Step [20/32], Loss: 0.0831\n",
            "Epoch [2/3], Step [30/32], Loss: 0.0758\n",
            "Epoch [2/3], Mean loss: 0.0689, Val loss: 0.1181, Val acc: 0.969\n",
            "Epoch [3/3], Step [10/32], Loss: 0.1876\n",
            "Epoch [3/3], Step [20/32], Loss: 0.0702\n",
            "Epoch [3/3], Step [30/32], Loss: 0.3670\n",
            "Epoch [3/3], Mean loss: 0.1517, Val loss: 0.2453, Val acc: 0.972\n"
          ],
          "name": "stdout"
        }
      ]
    },
    {
      "cell_type": "code",
      "metadata": {
        "colab": {
          "base_uri": "https://localhost:8080/"
        },
        "id": "rR4NN5Hx7xEr",
        "outputId": "459e2977-d381-45b3-da49-1619643e3b95"
      },
      "source": [
        "acc_kernel = [test(cnn_753)]"
      ],
      "execution_count": 53,
      "outputs": [
        {
          "output_type": "stream",
          "text": [
            "The accuracy of the model on test set is 0.9490.\n"
          ],
          "name": "stdout"
        }
      ]
    },
    {
      "cell_type": "markdown",
      "metadata": {
        "id": "4Fw-5Ztx_8vA"
      },
      "source": [
        "#### (5x5, 5x5, 3x3)\n",
        "\n"
      ]
    },
    {
      "cell_type": "code",
      "metadata": {
        "id": "c9wXuf43_8vP"
      },
      "source": [
        "class CNN_553(nn.Module):\n",
        "    def __init__(self):\n",
        "        super().__init__()\n",
        "        self.conv1 = nn.Conv2d(3, 16, 5, 1, 2)\n",
        "        self.relu = nn.ReLU()\n",
        "        self.pool = nn.MaxPool2d(2)\n",
        "        self.conv2 = nn.Conv2d(16, 32, 5, 1, 2)\n",
        "        self.conv3 = nn.Conv2d(32, 32, 3, 1, 1)\n",
        "        self.linear1 = nn.Linear(32*32*32, 64)\n",
        "        self.linear2 = nn.Linear(64, 2)\n",
        "\n",
        "    def forward(self, x):\n",
        "        x = self.pool(self.relu(self.conv1(x)))\n",
        "        x = self.pool(self.relu(self.conv2(x)))\n",
        "        x = self.pool(self.relu(self.conv3(x)))\n",
        "        x = x.reshape(-1, 32*32*32)\n",
        "        x = self.relu(self.linear1(x))\n",
        "        x = self.linear2(x)\n",
        "        return x\n",
        "\n",
        "cnn_553 = CNN_553().to(device)\n",
        "loss_function = nn.CrossEntropyLoss()\n",
        "optimizer = torch.optim.Adam(cnn_553.parameters(), lr=lr)"
      ],
      "execution_count": 54,
      "outputs": []
    },
    {
      "cell_type": "code",
      "metadata": {
        "colab": {
          "base_uri": "https://localhost:8080/"
        },
        "id": "BulWz2SH_8vQ",
        "outputId": "a7d0ccd2-4752-4c6f-9188-b2c4fca45f01"
      },
      "source": [
        "train(cnn_553, optimizer, loss_function)"
      ],
      "execution_count": 55,
      "outputs": [
        {
          "output_type": "stream",
          "text": [
            "Epoch [1/3], Step [10/32], Loss: 0.1932\n",
            "Epoch [1/3], Step [20/32], Loss: 0.0103\n",
            "Epoch [1/3], Step [30/32], Loss: 0.1333\n",
            "Epoch [1/3], Mean loss: 0.2621, Val loss: 0.0706, Val acc: 0.972\n",
            "Epoch [2/3], Step [10/32], Loss: 0.0072\n",
            "Epoch [2/3], Step [20/32], Loss: 0.1100\n",
            "Epoch [2/3], Step [30/32], Loss: 0.2404\n",
            "Epoch [2/3], Mean loss: 0.1090, Val loss: 0.1687, Val acc: 0.941\n",
            "Epoch [3/3], Step [10/32], Loss: 0.1489\n",
            "Epoch [3/3], Step [20/32], Loss: 0.0902\n",
            "Epoch [3/3], Step [30/32], Loss: 0.0737\n",
            "Epoch [3/3], Mean loss: 0.0736, Val loss: 0.0725, Val acc: 0.972\n"
          ],
          "name": "stdout"
        }
      ]
    },
    {
      "cell_type": "code",
      "metadata": {
        "colab": {
          "base_uri": "https://localhost:8080/"
        },
        "id": "Ssh0VmPp_8vR",
        "outputId": "04569b46-b151-44f3-ff76-480d463cec4a"
      },
      "source": [
        "acc_kernel.append(test(cnn_553))"
      ],
      "execution_count": 56,
      "outputs": [
        {
          "output_type": "stream",
          "text": [
            "The accuracy of the model on test set is 0.9686.\n"
          ],
          "name": "stdout"
        }
      ]
    },
    {
      "cell_type": "markdown",
      "metadata": {
        "id": "WGBrNtRJAN2B"
      },
      "source": [
        "#### (3x3, 3x3, 3x3)\n",
        "\n"
      ]
    },
    {
      "cell_type": "code",
      "metadata": {
        "id": "0X0VZqkQAN2D"
      },
      "source": [
        "class CNN_333(nn.Module):\n",
        "    def __init__(self):\n",
        "        super().__init__()\n",
        "        self.conv1 = nn.Conv2d(3, 16, 3, 1, 1)\n",
        "        self.relu = nn.ReLU()\n",
        "        self.pool = nn.MaxPool2d(2)\n",
        "        self.conv2 = nn.Conv2d(16, 32, 3, 1, 1)\n",
        "        self.conv3 = nn.Conv2d(32, 32, 3, 1, 1)\n",
        "        self.linear1 = nn.Linear(32*32*32, 64)\n",
        "        self.linear2 = nn.Linear(64, 2)\n",
        "\n",
        "    def forward(self, x):\n",
        "        x = self.pool(self.relu(self.conv1(x)))\n",
        "        x = self.pool(self.relu(self.conv2(x)))\n",
        "        x = self.pool(self.relu(self.conv3(x)))\n",
        "        x = x.reshape(-1, 32*32*32)\n",
        "        x = self.relu(self.linear1(x))\n",
        "        x = self.linear2(x)\n",
        "        return x\n",
        "\n",
        "cnn_333 = CNN_333().to(device)\n",
        "loss_function = nn.CrossEntropyLoss()\n",
        "optimizer = torch.optim.Adam(cnn_333.parameters(), lr=lr)"
      ],
      "execution_count": 57,
      "outputs": []
    },
    {
      "cell_type": "code",
      "metadata": {
        "colab": {
          "base_uri": "https://localhost:8080/"
        },
        "id": "l_HWIgqPAN2G",
        "outputId": "05b1d9ee-e451-4f3a-8d8e-80b447f0fbd4"
      },
      "source": [
        "train(cnn_333, optimizer, loss_function)"
      ],
      "execution_count": 58,
      "outputs": [
        {
          "output_type": "stream",
          "text": [
            "Epoch [1/3], Step [10/32], Loss: 0.5787\n",
            "Epoch [1/3], Step [20/32], Loss: 0.0590\n",
            "Epoch [1/3], Step [30/32], Loss: 0.1802\n",
            "Epoch [1/3], Mean loss: 0.3684, Val loss: 0.1408, Val acc: 0.961\n",
            "Epoch [2/3], Step [10/32], Loss: 0.0435\n",
            "Epoch [2/3], Step [20/32], Loss: 0.0052\n",
            "Epoch [2/3], Step [30/32], Loss: 0.0310\n",
            "Epoch [2/3], Mean loss: 0.0838, Val loss: 0.0871, Val acc: 0.972\n",
            "Epoch [3/3], Step [10/32], Loss: 0.1658\n",
            "Epoch [3/3], Step [20/32], Loss: 0.0704\n",
            "Epoch [3/3], Step [30/32], Loss: 0.0430\n",
            "Epoch [3/3], Mean loss: 0.0772, Val loss: 0.1018, Val acc: 0.969\n"
          ],
          "name": "stdout"
        }
      ]
    },
    {
      "cell_type": "code",
      "metadata": {
        "colab": {
          "base_uri": "https://localhost:8080/"
        },
        "id": "nw1NdNjEAN2H",
        "outputId": "8798f275-83a9-4e85-fdc5-53219bf951b8"
      },
      "source": [
        "acc_kernel.append(test(cnn_333))"
      ],
      "execution_count": 59,
      "outputs": [
        {
          "output_type": "stream",
          "text": [
            "The accuracy of the model on test set is 0.9647.\n"
          ],
          "name": "stdout"
        }
      ]
    },
    {
      "cell_type": "markdown",
      "metadata": {
        "id": "5TxF2TisBt_D"
      },
      "source": [
        "#### Comparison"
      ]
    },
    {
      "cell_type": "code",
      "metadata": {
        "colab": {
          "base_uri": "https://localhost:8080/",
          "height": 301
        },
        "id": "Trft8oMdBt_Q",
        "outputId": "5c496f68-480b-4784-c73c-f25409d14fd5"
      },
      "source": [
        "fig, ax = plt.subplots(1, 1)\n",
        "sns.barplot(x=['7x7, 5x5, 3x3', '5x5, 5x5, 3x3', '3x3, 3x3, 3x3'], y=acc_kernel, ax=ax)\n",
        "plt.title('Accuracy on test data')\n",
        "plt.xlabel('Kernel sizes')\n",
        "plt.ylabel('Accuracy')\n",
        "plt.ylim([0.9, 1])\n",
        "plt.show()"
      ],
      "execution_count": 60,
      "outputs": [
        {
          "output_type": "display_data",
          "data": {
            "image/png": "[encoded data removed]",
            "text/plain": [
              "<Figure size 432x288 with 1 Axes>"
            ]
          },
          "metadata": {
            "tags": []
          }
        }
      ]
    },
    {
      "cell_type": "markdown",
      "metadata": {
        "id": "-nNGHyG5EC65"
      },
      "source": [
        "The best model was the one with kernel sizes (5x5x3)."
      ]
    },
    {
      "cell_type": "markdown",
      "metadata": {
        "id": "ozHQwmflEL2B"
      },
      "source": [
        "## Conclusions\n",
        "\n",
        "In general, based on our experiments, the best model for this task has some of these characteristics:\n",
        "- 1 layer\n",
        "- ReLU\n",
        "- Without regularization\n",
        "- 3 layers and kernel sizes (5x5x3)\n",
        "\n",
        "In fact, our simple model with 1 layer, ReLU and no regularization performed the best.\n",
        "\n",
        "It is very important to note that, because of the randomness of the processes, we could have had much different results."
      ]
    },
    {
      "cell_type": "markdown",
      "metadata": {
        "id": "UZguWAe5T71U"
      },
      "source": [
        "## References\n",
        "\n",
        "M.E.H. Chowdhury, T. Rahman, A. Khandakar, R. Mazhar, M.A. Kadir, Z.B. Mahbub, K.R. Islam, M.S. Khan, A. Iqbal, N. Al-Emadi, M.B.I. Reaz, M. T. Islam, “Can AI help in screening Viral and COVID-19 pneumonia?” IEEE Access, Vol. 8, 2020, pp. 132665 - 132676."
      ]
    }
  ]
}